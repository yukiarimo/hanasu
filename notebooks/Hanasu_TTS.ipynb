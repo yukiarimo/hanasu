{
  "nbformat": 4,
  "nbformat_minor": 0,
  "metadata": {
    "colab": {
      "provenance": [],
      "gpuType": "L4",
      "machine_shape": "hm"
    },
    "kernelspec": {
      "name": "python3",
      "display_name": "Python 3"
    },
    "language_info": {
      "name": "python"
    },
    "accelerator": "GPU"
  },
  "cells": [
    {
      "cell_type": "markdown",
      "source": [
        "# Welcome to Hanasu TTS Trainer"
      ],
      "metadata": {
        "id": "SNIEiTSY08lf"
      }
    },
    {
      "cell_type": "code",
      "execution_count": null,
      "metadata": {
        "id": "l4M-3d4zQTYC"
      },
      "outputs": [],
      "source": [
        "!git clone https://github.com/yukiarimo/hanasu.git\n",
        "%cd hanasu\n",
        "!pip install -e .\n",
        "%cd hanasu"
      ]
    },
    {
      "cell_type": "code",
      "source": [
        "!apt-get install -y mecab libmecab-dev mecab-ipadic-utf8\n",
        "!pip install mecab-python3==1.0.6\n",
        "!pip install unidic-lite\n",
        "!python -m unidic download\n",
        "!pip install --no-binary :all: mecab-python3\n",
        "!pip install matplotlib==3.7.0 # This fixes: 'FigureCanvasAgg' object has no attribute 'tostring_rgb'"
      ],
      "metadata": {
        "id": "8GnDPtUARGji"
      },
      "execution_count": null,
      "outputs": []
    },
    {
      "cell_type": "code",
      "source": [
        "import nltk\n",
        "nltk.download('averaged_perceptron_tagger_eng')"
      ],
      "metadata": {
        "id": "I5msW6D8Tw1e"
      },
      "execution_count": null,
      "outputs": []
    },
    {
      "cell_type": "markdown",
      "source": [
        "# Preprocess the dataset"
      ],
      "metadata": {
        "id": "P2yS6_LM1bVd"
      }
    },
    {
      "cell_type": "code",
      "source": [
        "!unzip /content/drive/MyDrive/wavs.zip -d /content/Yuna/wavs"
      ],
      "metadata": {
        "id": "qQ-GhNqynpzx"
      },
      "execution_count": null,
      "outputs": []
    },
    {
      "cell_type": "code",
      "source": [
        "!python preprocess_text.py --metadata /content/Yuna/metadata.list"
      ],
      "metadata": {
        "id": "XXtqvYeoR2XT"
      },
      "execution_count": null,
      "outputs": []
    },
    {
      "cell_type": "markdown",
      "source": [
        "# This is where magic happens"
      ],
      "metadata": {
        "id": "jPPDxdW51jck"
      }
    },
    {
      "cell_type": "code",
      "source": [
        "!bash train.sh /content/Yuna/config.json 1"
      ],
      "metadata": {
        "id": "ljy_hDZCSE14"
      },
      "execution_count": null,
      "outputs": []
    },
    {
      "cell_type": "markdown",
      "source": [
        "# Inference"
      ],
      "metadata": {
        "id": "XGE29b1q1g-x"
      }
    },
    {
      "cell_type": "markdown",
      "source": [
        "In a quiet neighborhood just west of Embassy Row in Washington, there exists a medieval-style walled garden whose roses, it is said, spring from twelfth-century plants. The garden's Carderock gazebo, known as Shadow House, sits elegantly amid meandering pathways of stones dug from George Washington's private quarry."
      ],
      "metadata": {
        "id": "KK8LaYKutAlJ"
      }
    },
    {
      "cell_type": "code",
      "source": [
        "python infer.py \\\n",
        "  --text \"In a quiet neighborhood just west of Embassy Row in Washington, there exists a medieval-style walled garden whose roses, it is said, spring from twelfth-century plants. The garden's Carderock gazebo, known as Shadow House, sits elegantly amid meandering pathways of stones dug from George Washington's private quarry.\" \\\n",
        "  -m /content/hanasu/hanasu/logs/Yuna/G_100.pth \\\n",
        "  -o ./output.wav \\\n",
        "  --language EN"
      ],
      "metadata": {
        "id": "3rXuDdi44xsi"
      },
      "execution_count": null,
      "outputs": []
    },
    {
      "cell_type": "markdown",
      "source": [
        "Washinton no enbashī rō no sugu nishi ni aru shizukana chiku ni wa, chūsei-fū no kabe ni kakoma reta teien ga ari, sono bara wa 12 seiki no shokubutsu kara umareta to iwa rete imasu. Teien no kāderokku gazebo wa shadō hausu to shite shira re, jōji Washinton no shiyū saisekiba kara horidasa reta ishi de tsukura reta magarikunetta komichi no naka ni yūga ni tatazunde imasu."
      ],
      "metadata": {
        "id": "nVQYMImws6Bz"
      }
    },
    {
      "cell_type": "code",
      "source": [
        "python infer.py \\\n",
        "  --text \"ワシントンのエンバシー ロウのすぐ西にある静かな地区には、中世風の壁に囲まれた庭園があり、そのバラは 12 世紀の植物から生まれたと言われています。庭園のカーデロック ガゼボはシャドウ ハウスとして知られ、ジョージ ワシントンの私有採石場から掘り出された石で作られた曲がりくねった小道の中に優雅に佇んでいます。\" \\\n",
        "  -m /content/hanasu/hanasu/logs/Yuna/G_100.pth \\\n",
        "  -o ./output.wav \\\n",
        "  --language JP"
      ],
      "metadata": {
        "id": "lXQvAk289HvE"
      },
      "execution_count": null,
      "outputs": []
    },
    {
      "cell_type": "markdown",
      "source": [
        "В тихом районе к западу от Эмбасси-Роу в Вашингтоне есть обнесенный стеной сад в средневековом стиле, розы которого, как говорят, растут из растений двенадцатого века. Беседка Кардерок в саду, известная как Дом Теней, элегантно расположена среди извилистых дорожек камней, вырытых в частном карьере Джорджа Вашингтона."
      ],
      "metadata": {
        "id": "jOPJ43h8sqvb"
      }
    },
    {
      "cell_type": "code",
      "source": [
        "python infer.py \\\n",
        "  --text \"V tixom rajone k zapadu ot E'mbassi-Rou v Vashingtone est' obnesenny'j stenoj sad v srednevekovom stile, rozy' kotorogo, kak govoryat, rastut iz rastenij dvenadczatogo veka. Besedka Karderok v sadu, izvestnaya kak Dom Tenej, e'legantno raspolozhena sredi izvilisty'x dorozhek kamnej, vy'ry'ty'x v chastnom kar'ere Dzhordzha Vashingtona.\" \\\n",
        "  -m /content/hanasu/hanasu/logs/Yuna/G_100.pth \\\n",
        "  -o ./output.wav \\\n",
        "  --language EN"
      ],
      "metadata": {
        "id": "IJCjHCNwrEMR"
      },
      "execution_count": null,
      "outputs": []
    },
    {
      "cell_type": "markdown",
      "source": [
        "# Save models to Google Drive"
      ],
      "metadata": {
        "id": "CD8rZWbl_Wpu"
      }
    },
    {
      "cell_type": "code",
      "source": [
        "cp /content/hanasu/hanasu/logs/Yuna/G_100.pth /content/drive/MyDrive"
      ],
      "metadata": {
        "id": "nnvIVJI7Sy18"
      },
      "execution_count": null,
      "outputs": []
    },
    {
      "cell_type": "code",
      "source": [
        "cp /content/hanasu/hanasu/logs/Yuna/D_100.pth /content/drive/MyDrive"
      ],
      "metadata": {
        "id": "6JsGPPnl_grt"
      },
      "execution_count": null,
      "outputs": []
    },
    {
      "cell_type": "code",
      "source": [
        "cp /content/hanasu/hanasu/logs/Yuna/DUR_100.pth /content/drive/MyDrive"
      ],
      "metadata": {
        "id": "vxIDhXda_hJ3"
      },
      "execution_count": null,
      "outputs": []
    }
  ]
}